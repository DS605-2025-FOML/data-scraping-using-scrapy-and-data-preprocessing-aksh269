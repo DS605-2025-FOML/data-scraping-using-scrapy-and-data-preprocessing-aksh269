{
 "cells": [
  {
   "cell_type": "code",
   "execution_count": 1,
   "id": "849f82ad",
   "metadata": {},
   "outputs": [
    {
     "name": "stdout",
     "output_type": "stream",
     "text": [
      "  availbility_of_book                                      bookimage_url  \\\n",
      "0            In stock  media/cache/2c/da/2cdad67c44b002e7ead0cc35693c...   \n",
      "1            In stock  media/cache/26/0c/260c6ae16bce31c8f8c95daddd9f...   \n",
      "2            In stock  media/cache/3e/ef/3eef99c9d9adef34639f51066202...   \n",
      "3            In stock  media/cache/32/51/3251cf3a3412f53f339e42cac213...   \n",
      "4            In stock  media/cache/be/a5/bea5697f2534a2f86a3ef27b5a8c...   \n",
      "\n",
      "                                    name price_of_book rating_of_book  \n",
      "0                   A Light in the Attic        £51.77          Three  \n",
      "1                     Tipping the Velvet        £53.74            One  \n",
      "2                             Soumission        £50.10            One  \n",
      "3                          Sharp Objects        £47.82           Four  \n",
      "4  Sapiens: A Brief History of Humankind        £54.23           Five  \n"
     ]
    }
   ],
   "source": [
    "import pandas as pd\n",
    "df=pd.read_csv('Book_detail_scrape.csv')\n",
    "print(df.head())"
   ]
  },
  {
   "cell_type": "code",
   "execution_count": null,
   "id": "6811e2b0",
   "metadata": {},
   "outputs": [],
   "source": []
  }
 ],
 "metadata": {
  "kernelspec": {
   "display_name": "Python 3",
   "language": "python",
   "name": "python3"
  },
  "language_info": {
   "codemirror_mode": {
    "name": "ipython",
    "version": 3
   },
   "file_extension": ".py",
   "mimetype": "text/x-python",
   "name": "python",
   "nbconvert_exporter": "python",
   "pygments_lexer": "ipython3",
   "version": "3.12.4"
  }
 },
 "nbformat": 4,
 "nbformat_minor": 5
}
