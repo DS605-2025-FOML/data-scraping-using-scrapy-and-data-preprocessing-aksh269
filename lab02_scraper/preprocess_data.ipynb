{
 "cells": [
  {
   "cell_type": "code",
   "execution_count": 7,
   "id": "baa09862",
   "metadata": {},
   "outputs": [
    {
     "name": "stdout",
     "output_type": "stream",
     "text": [
      "         author                   tag  \\\n",
      "0  Steve Martin  humor,obvious,simile   \n",
      "1  Steve Martin  humor,obvious,simile   \n",
      "2  Steve Martin  humor,obvious,simile   \n",
      "3  Steve Martin  humor,obvious,simile   \n",
      "4  Steve Martin  humor,obvious,simile   \n",
      "\n",
      "                                                text  \n",
      "0  “A day without sunshine is like, you know, nig...  \n",
      "1  “A day without sunshine is like, you know, nig...  \n",
      "2  “A day without sunshine is like, you know, nig...  \n",
      "3  “A day without sunshine is like, you know, nig...  \n",
      "4  “A day without sunshine is like, you know, nig...  \n"
     ]
    }
   ],
   "source": [
    "import pandas as pd\n",
    "df=pd.read_csv('Lab02_quote_last_1.csv')\n",
    "print(df.head())"
   ]
  },
  {
   "cell_type": "code",
   "execution_count": 8,
   "id": "ccf365e8",
   "metadata": {},
   "outputs": [
    {
     "name": "stdout",
     "output_type": "stream",
     "text": [
      "author    0\n",
      "tag       0\n",
      "text      0\n",
      "dtype: int64\n"
     ]
    }
   ],
   "source": [
    "print(df.isnull().sum())"
   ]
  }
 ],
 "metadata": {
  "kernelspec": {
   "display_name": "Python 3",
   "language": "python",
   "name": "python3"
  },
  "language_info": {
   "codemirror_mode": {
    "name": "ipython",
    "version": 3
   },
   "file_extension": ".py",
   "mimetype": "text/x-python",
   "name": "python",
   "nbconvert_exporter": "python",
   "pygments_lexer": "ipython3",
   "version": "3.12.4"
  }
 },
 "nbformat": 4,
 "nbformat_minor": 5
}
